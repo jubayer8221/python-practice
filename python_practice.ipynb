{
  "nbformat": 4,
  "nbformat_minor": 0,
  "metadata": {
    "colab": {
      "provenance": [],
      "authorship_tag": "ABX9TyOhrfK90/zt5E7b4INdtJqC",
      "include_colab_link": true
    },
    "kernelspec": {
      "name": "python3",
      "display_name": "Python 3"
    },
    "language_info": {
      "name": "python"
    }
  },
  "cells": [
    {
      "cell_type": "markdown",
      "metadata": {
        "id": "view-in-github",
        "colab_type": "text"
      },
      "source": [
        "<a href=\"https://colab.research.google.com/github/jubayer8221/python-practice/blob/main/python_practice.ipynb\" target=\"_parent\"><img src=\"https://colab.research.google.com/assets/colab-badge.svg\" alt=\"Open In Colab\"/></a>"
      ]
    },
    {
      "cell_type": "code",
      "execution_count": 1,
      "metadata": {
        "id": "vE_M7Tf8vG-V",
        "colab": {
          "base_uri": "https://localhost:8080/"
        },
        "outputId": "93566bbc-9d7d-4e52-d089-8dca9828470c"
      },
      "outputs": [
        {
          "output_type": "stream",
          "name": "stdout",
          "text": [
            "Walk\n",
            "Walk\n"
          ]
        }
      ],
      "source": [
        "#in heritace in Python\n",
        "\n",
        "class Mammal:\n",
        "  def walk(self):\n",
        "    print(\"Walk\")\n",
        "\n",
        "class Dog(Mammal):\n",
        "  pass\n",
        "\n",
        "class Cat(Mammal):\n",
        "  pass\n",
        "\n",
        "dog1 = Dog()\n",
        "dog1.walk()\n",
        "\n",
        "cat1 = Cat()\n",
        "cat1.walk()\n"
      ]
    },
    {
      "cell_type": "code",
      "source": [],
      "metadata": {
        "id": "fnoNypRyyzZN"
      },
      "execution_count": null,
      "outputs": []
    }
  ]
}