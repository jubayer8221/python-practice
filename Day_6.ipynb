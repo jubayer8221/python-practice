{
  "nbformat": 4,
  "nbformat_minor": 0,
  "metadata": {
    "colab": {
      "provenance": [],
      "authorship_tag": "ABX9TyMHvYJzfFzQ+ez70bilPFKA",
      "include_colab_link": true
    },
    "kernelspec": {
      "name": "python3",
      "display_name": "Python 3"
    },
    "language_info": {
      "name": "python"
    }
  },
  "cells": [
    {
      "cell_type": "markdown",
      "metadata": {
        "id": "view-in-github",
        "colab_type": "text"
      },
      "source": [
        "<a href=\"https://colab.research.google.com/github/jubayer8221/python-practice/blob/main/Day_6.ipynb\" target=\"_parent\"><img src=\"https://colab.research.google.com/assets/colab-badge.svg\" alt=\"Open In Colab\"/></a>"
      ]
    },
    {
      "cell_type": "code",
      "execution_count": null,
      "metadata": {
        "colab": {
          "base_uri": "https://localhost:8080/"
        },
        "id": "RuRqrohl8w55",
        "outputId": "8130f479-15bb-4c61-ae67-12ba28d07be9"
      },
      "outputs": [
        {
          "output_type": "stream",
          "name": "stdout",
          "text": [
            "Enter the number: 6\n",
            "6 is not in the list.\n"
          ]
        }
      ],
      "source": [
        "#Find a Number is in the list or not using if else statement\n",
        "\n",
        "my_list = [1, 2, 3, 4, 5]\n",
        "value = int(input(\"Enter the number: \"))\n",
        "\n",
        "if value in my_list:\n",
        "    print(f\"{value} is in the list.\")\n",
        "else:\n",
        "    print(f\"{value} is not in the list.\")"
      ]
    },
    {
      "cell_type": "code",
      "source": [
        "#Find a Number is in the list or not using if else statement\n",
        "my_list = [1, 2, 3, 4, 5]\n",
        "value = int(input(\"Enter the number: \"))\n",
        "\n",
        "if value not in my_list:\n",
        "    print(f\"{value} is not in the list.\")\n",
        "else:\n",
        "    print(f\"{value} is in the list.\")"
      ],
      "metadata": {
        "colab": {
          "base_uri": "https://localhost:8080/"
        },
        "id": "dCZjG__59m-4",
        "outputId": "5398e577-2cea-40d4-e1ad-6f58677ba4f1"
      },
      "execution_count": null,
      "outputs": [
        {
          "output_type": "stream",
          "name": "stdout",
          "text": [
            "Enter the number: 6\n",
            "6 is not in the list.\n"
          ]
        }
      ]
    },
    {
      "cell_type": "code",
      "source": [
        "# Program to get user's name and display it in uppercase\n",
        "name = input(\"Enter your name: \")\n",
        "print(\"Your name in uppercase is:\", name.upper())"
      ],
      "metadata": {
        "colab": {
          "base_uri": "https://localhost:8080/"
        },
        "id": "Fh7TVQvh92zd",
        "outputId": "6173f9de-8cee-47f8-bcb2-dc0793c88397"
      },
      "execution_count": null,
      "outputs": [
        {
          "output_type": "stream",
          "name": "stdout",
          "text": [
            "Enter your name: jubayer\n",
            "Your name in uppercase is: JUBAYER\n"
          ]
        }
      ]
    },
    {
      "cell_type": "code",
      "source": [
        "# Program to get user's age and convert it into seconds\n",
        "age = int(input(\"Enter your age: \"))\n",
        "\n",
        "seconds_in_a_year = 365 * 24 * 60 * 60\n",
        "age_in_seconds = age * seconds_in_a_year\n",
        "print(f\"Your age in seconds is: {age_in_seconds}\")"
      ],
      "metadata": {
        "colab": {
          "base_uri": "https://localhost:8080/"
        },
        "id": "DAEqOyF-_k8A",
        "outputId": "b0f794c0-00f7-451f-9c45-93d09f056ab4"
      },
      "execution_count": null,
      "outputs": [
        {
          "output_type": "stream",
          "name": "stdout",
          "text": [
            "Enter your age: 20\n",
            "Your age in seconds is: 630720000\n"
          ]
        }
      ]
    },
    {
      "cell_type": "code",
      "source": [
        "# Program to get three numbers from the user and increase one value to each\n",
        "num1 = int(input(\"Enter first number: \"))\n",
        "num2 = int(input(\"Enter second number: \"))\n",
        "num3 = int(input(\"Enter third number: \"))\n",
        "\n",
        "\n",
        "num1 += 1\n",
        "num2 += 1\n",
        "num3 += 1\n",
        "\n",
        "print(\"The updated numbers are:\", num1, num2, num3)\n"
      ],
      "metadata": {
        "colab": {
          "base_uri": "https://localhost:8080/"
        },
        "id": "8jsJTG_v_nYV",
        "outputId": "a4c7540c-7443-4c7f-818d-020f24786749"
      },
      "execution_count": null,
      "outputs": [
        {
          "output_type": "stream",
          "name": "stdout",
          "text": [
            "Enter first number: 1\n",
            "Enter second number: 2\n",
            "Enter third number: 3\n",
            "The updated numbers are: 2 3 4\n"
          ]
        }
      ]
    },
    {
      "cell_type": "code",
      "source": [
        "#Program to get a number, find its square, and then find its square root\n",
        "\n",
        "import math\n",
        "\n",
        "number = float(input(\"Enter a number: \"))\n",
        "\n",
        "square = number ** 2\n",
        "print(f\"The square of {number} is: {square}\")\n",
        "\n",
        "square_root = math.sqrt(number)\n",
        "print(f\"The square root of {number} is: {square_root}\")"
      ],
      "metadata": {
        "colab": {
          "base_uri": "https://localhost:8080/"
        },
        "id": "gmI3nXWF_qYL",
        "outputId": "2c8f9678-9368-46dd-91a9-00fcab9c21c6"
      },
      "execution_count": null,
      "outputs": [
        {
          "output_type": "stream",
          "name": "stdout",
          "text": [
            "Enter a number: 5\n",
            "The square of 5.0 is: 25.0\n",
            "The square root of 5.0 is: 2.23606797749979\n"
          ]
        }
      ]
    },
    {
      "cell_type": "code",
      "source": [
        "# Program to get three numbers and perform the operation\n",
        "num1 = int(input(\"Enter first number: \"))\n",
        "num2 = int(input(\"Enter second number: \"))\n",
        "num3 = int(input(\"Enter third number: \"))\n",
        "\n",
        "result = (num1 * num3) + num2\n",
        "\n",
        "print(f\"The result is: {result}\")"
      ],
      "metadata": {
        "id": "E8jLdkXI_sZm",
        "colab": {
          "base_uri": "https://localhost:8080/"
        },
        "collapsed": true,
        "outputId": "e918375a-7db4-481c-d9e6-40221c729de5"
      },
      "execution_count": 82,
      "outputs": [
        {
          "output_type": "stream",
          "name": "stdout",
          "text": [
            "Enter first number: 55\n",
            "Enter second number: 5\n",
            "Enter third number: 5\n",
            "The result is: 280\n"
          ]
        }
      ]
    },
    {
      "cell_type": "code",
      "source": [
        "#Program to get welcome message using if else statment\n",
        "\n",
        "msg = int(input(\"Enter the message: \"))\n",
        "\n",
        "if msg >= 39:\n",
        "    print(\"Sorry you can not participant in the programm\")\n",
        "else:\n",
        "    print(\"Congratulation, you can take participant is this program\")\n"
      ],
      "metadata": {
        "colab": {
          "base_uri": "https://localhost:8080/"
        },
        "id": "7dHkSVtsDUBw",
        "outputId": "1b139aaf-bf8a-4fd9-bc91-81d1f0b5e261"
      },
      "execution_count": null,
      "outputs": [
        {
          "output_type": "stream",
          "name": "stdout",
          "text": [
            "Enter the message: 40\n",
            "Sorry you can not participant in the programm\n"
          ]
        }
      ]
    },
    {
      "cell_type": "code",
      "source": [
        "#printing Even or Odd number using if else statement\n",
        "num = int(input(\"Enter a number: \"))\n",
        "\n",
        "if num % 2 == 0:\n",
        "  print(f\"{num} is even number\")\n",
        "else:\n",
        "  print(f\"{num} is odd number\")"
      ],
      "metadata": {
        "id": "UEr9Fku2FL2W",
        "colab": {
          "base_uri": "https://localhost:8080/"
        },
        "collapsed": true,
        "outputId": "2c6943d3-9b10-4f2d-c1ab-768666960b72"
      },
      "execution_count": 81,
      "outputs": [
        {
          "output_type": "stream",
          "name": "stdout",
          "text": [
            "Enter a number: 10\n",
            "10 is even number\n"
          ]
        }
      ]
    },
    {
      "cell_type": "code",
      "source": [
        "marks = int(input(\"Enter your marks: \"))\n",
        "\n",
        "if marks >= 40:\n",
        "  print(\"You are pass\")\n",
        "else:\n",
        "  print(\"You are fail\")"
      ],
      "metadata": {
        "id": "v_FG_H8rFrTs"
      },
      "execution_count": null,
      "outputs": []
    },
    {
      "cell_type": "code",
      "source": [
        "name = str(input(\"Enter your name: \"))\n",
        "age = int(input(\"Enter your age:\"))\n",
        "\n",
        "if age >= 18:\n",
        "  print(f\"Hey {name}! your age is {age} and you are eligible for vote\")\n",
        "else:\n",
        "  print(\"You are not eligible for vote\")"
      ],
      "metadata": {
        "id": "w9CGKB_EGF5s",
        "colab": {
          "base_uri": "https://localhost:8080/"
        },
        "outputId": "bc2ed566-3e9a-455f-ac58-0af4ad69049c"
      },
      "execution_count": 42,
      "outputs": [
        {
          "output_type": "stream",
          "name": "stdout",
          "text": [
            "Enter your name: jubayer\n",
            "Enter your age:20\n",
            "Hey jubayer! your age is 20 and you are eligible for vote\n"
          ]
        }
      ]
    },
    {
      "cell_type": "code",
      "source": [
        "name = str(input(\"Enter your name: \"))\n",
        "age = int(input(\"Enter your age:\"))\n",
        "\n",
        "if age >= 18:\n",
        "  print(f\"Hey {name}! your age is {age} and you are eligible for vote\")\n",
        "else:\n",
        "  print(\"You are not eligible for vote\")"
      ],
      "metadata": {
        "id": "t0IHc_ZrODnB"
      },
      "execution_count": null,
      "outputs": []
    },
    {
      "cell_type": "code",
      "source": [
        "num1 = int(input(\"Enter first number: \"))\n",
        "\n",
        "num2 = num1 + 1\n",
        "num3 = num1 - 1\n",
        "\n",
        "print(f\"The previous number is {num3} And next number is {num2} and \")"
      ],
      "metadata": {
        "colab": {
          "base_uri": "https://localhost:8080/"
        },
        "id": "yfk7T6PvRb5U",
        "outputId": "ee11ff36-65e7-4bc9-c906-f7e763eb6dc7"
      },
      "execution_count": 45,
      "outputs": [
        {
          "output_type": "stream",
          "name": "stdout",
          "text": [
            "Enter first number: 5\n",
            "The previous number is 4 And next number is 6 and \n"
          ]
        }
      ]
    },
    {
      "cell_type": "code",
      "source": [
        "num1 = int(input(\"Enter first number: \"))\n",
        "num2 = int(input(\"Enter second number: \"))\n",
        "\n",
        "square = num1 ** 2\n",
        "Cube = num2 ** 3\n",
        "\n",
        "print(f\"The square of {num1} is {square} and Cube of {num2} is {Cube}\")"
      ],
      "metadata": {
        "colab": {
          "base_uri": "https://localhost:8080/"
        },
        "id": "mnacUbtlSZAR",
        "outputId": "8240e14e-06aa-4799-ed43-9e9ae4295fa7"
      },
      "execution_count": 46,
      "outputs": [
        {
          "output_type": "stream",
          "name": "stdout",
          "text": [
            "Enter first number: 3\n",
            "Enter second number: 3\n",
            "The square of 3 is 9 and Cube of 3 is 27\n"
          ]
        }
      ]
    },
    {
      "cell_type": "code",
      "source": [
        "for var in range(10, 20):\n",
        "  print(var)"
      ],
      "metadata": {
        "colab": {
          "base_uri": "https://localhost:8080/"
        },
        "id": "GZde0yJ4Sw8A",
        "outputId": "471a8d16-61ae-49b3-a981-ef144a20f089"
      },
      "execution_count": 50,
      "outputs": [
        {
          "output_type": "stream",
          "name": "stdout",
          "text": [
            "10\n",
            "11\n",
            "12\n",
            "13\n",
            "14\n",
            "15\n",
            "16\n",
            "17\n",
            "18\n",
            "19\n"
          ]
        }
      ]
    },
    {
      "cell_type": "code",
      "source": [
        "#Program to generate numbers from 100 to 1 only odd number\n",
        "\n",
        "i = 100\n",
        "while i >= 1:\n",
        "\n",
        "  print(i)\n",
        "  i -= 2"
      ],
      "metadata": {
        "colab": {
          "base_uri": "https://localhost:8080/"
        },
        "collapsed": true,
        "id": "3nADauHNUDw4",
        "outputId": "fa9e2aa8-21de-448d-d6da-d43941a21c68"
      },
      "execution_count": 55,
      "outputs": [
        {
          "output_type": "stream",
          "name": "stdout",
          "text": [
            "100\n",
            "98\n",
            "96\n",
            "94\n",
            "92\n",
            "90\n",
            "88\n",
            "86\n",
            "84\n",
            "82\n",
            "80\n",
            "78\n",
            "76\n",
            "74\n",
            "72\n",
            "70\n",
            "68\n",
            "66\n",
            "64\n",
            "62\n",
            "60\n",
            "58\n",
            "56\n",
            "54\n",
            "52\n",
            "50\n",
            "48\n",
            "46\n",
            "44\n",
            "42\n",
            "40\n",
            "38\n",
            "36\n",
            "34\n",
            "32\n",
            "30\n",
            "28\n",
            "26\n",
            "24\n",
            "22\n",
            "20\n",
            "18\n",
            "16\n",
            "14\n",
            "12\n",
            "10\n",
            "8\n",
            "6\n",
            "4\n",
            "2\n"
          ]
        }
      ]
    },
    {
      "cell_type": "code",
      "source": [
        "# Generate odd numbers from 100 down to 1\n",
        "for num in range(99, 0, -2):\n",
        "    print(num)\n"
      ],
      "metadata": {
        "colab": {
          "base_uri": "https://localhost:8080/"
        },
        "collapsed": true,
        "id": "fhzmRzULVHup",
        "outputId": "ca0cd6e6-c521-4d5f-a118-5025ecc6450b"
      },
      "execution_count": 56,
      "outputs": [
        {
          "output_type": "stream",
          "name": "stdout",
          "text": [
            "99\n",
            "97\n",
            "95\n",
            "93\n",
            "91\n",
            "89\n",
            "87\n",
            "85\n",
            "83\n",
            "81\n",
            "79\n",
            "77\n",
            "75\n",
            "73\n",
            "71\n",
            "69\n",
            "67\n",
            "65\n",
            "63\n",
            "61\n",
            "59\n",
            "57\n",
            "55\n",
            "53\n",
            "51\n",
            "49\n",
            "47\n",
            "45\n",
            "43\n",
            "41\n",
            "39\n",
            "37\n",
            "35\n",
            "33\n",
            "31\n",
            "29\n",
            "27\n",
            "25\n",
            "23\n",
            "21\n",
            "19\n",
            "17\n",
            "15\n",
            "13\n",
            "11\n",
            "9\n",
            "7\n",
            "5\n",
            "3\n",
            "1\n"
          ]
        }
      ]
    },
    {
      "cell_type": "code",
      "source": [
        "# Generate Even numbers from 100 down to 1\n",
        "for num in range(100, 0, -2):\n",
        "    print(num)\n"
      ],
      "metadata": {
        "colab": {
          "base_uri": "https://localhost:8080/"
        },
        "collapsed": true,
        "id": "LubYKwWCTHYY",
        "outputId": "009954a1-7277-47ea-d89c-b753db7ae53a"
      },
      "execution_count": 57,
      "outputs": [
        {
          "output_type": "stream",
          "name": "stdout",
          "text": [
            "100\n",
            "98\n",
            "96\n",
            "94\n",
            "92\n",
            "90\n",
            "88\n",
            "86\n",
            "84\n",
            "82\n",
            "80\n",
            "78\n",
            "76\n",
            "74\n",
            "72\n",
            "70\n",
            "68\n",
            "66\n",
            "64\n",
            "62\n",
            "60\n",
            "58\n",
            "56\n",
            "54\n",
            "52\n",
            "50\n",
            "48\n",
            "46\n",
            "44\n",
            "42\n",
            "40\n",
            "38\n",
            "36\n",
            "34\n",
            "32\n",
            "30\n",
            "28\n",
            "26\n",
            "24\n",
            "22\n",
            "20\n",
            "18\n",
            "16\n",
            "14\n",
            "12\n",
            "10\n",
            "8\n",
            "6\n",
            "4\n",
            "2\n"
          ]
        }
      ]
    },
    {
      "cell_type": "code",
      "source": [
        "total_sum = 0\n",
        "\n",
        "for num in range(10, 51):\n",
        "      print(f\"{num}\")\n",
        "      total_sum += num\n",
        "print(\"The sum of numbers from 10 to 50 is:\", total_sum)\n",
        "\n"
      ],
      "metadata": {
        "colab": {
          "base_uri": "https://localhost:8080/"
        },
        "collapsed": true,
        "id": "rEFMc7r_VewI",
        "outputId": "1d42d6bc-fb13-409f-bad9-524798e50293"
      },
      "execution_count": 63,
      "outputs": [
        {
          "output_type": "stream",
          "name": "stdout",
          "text": [
            "10\n",
            "11\n",
            "12\n",
            "13\n",
            "14\n",
            "15\n",
            "16\n",
            "17\n",
            "18\n",
            "19\n",
            "20\n",
            "21\n",
            "22\n",
            "23\n",
            "24\n",
            "25\n",
            "26\n",
            "27\n",
            "28\n",
            "29\n",
            "30\n",
            "31\n",
            "32\n",
            "33\n",
            "34\n",
            "35\n",
            "36\n",
            "37\n",
            "38\n",
            "39\n",
            "40\n",
            "41\n",
            "42\n",
            "43\n",
            "44\n",
            "45\n",
            "46\n",
            "47\n",
            "48\n",
            "49\n",
            "50\n",
            "The sum of numbers from 10 to 50 is: 1230\n"
          ]
        }
      ]
    },
    {
      "cell_type": "code",
      "source": [
        "num = int(input(\"Enter a Number: \"))\n",
        "\n",
        "divisor = 1\n",
        "\n",
        "while divisor <= num:\n",
        "    if num % divisor == 0:\n",
        "        print(divisor)\n",
        "    divisor += 1"
      ],
      "metadata": {
        "colab": {
          "base_uri": "https://localhost:8080/"
        },
        "id": "BPZ1dOr9WyMM",
        "outputId": "eae97253-ecae-439b-d448-546c9bea05a8"
      },
      "execution_count": 66,
      "outputs": [
        {
          "output_type": "stream",
          "name": "stdout",
          "text": [
            "Enter a Number: 9\n",
            "1\n",
            "3\n",
            "9\n"
          ]
        }
      ]
    },
    {
      "cell_type": "code",
      "source": [
        "start = int(input(\"Enter the start number: \"))\n",
        "end = int(input(\"Enter the end number: \"))\n",
        "\n",
        "if start < end:\n",
        "  while start <= end:\n",
        "    print(start)\n",
        "    start += 1\n",
        "else:\n",
        "    print(\"\\nThere is something wrong! \\nStarting number should be less then Ending number: \")\n",
        "\n"
      ],
      "metadata": {
        "colab": {
          "base_uri": "https://localhost:8080/"
        },
        "id": "knTDFFEVYL2o",
        "outputId": "4b4361ed-252b-4d7b-f20c-a9a6ef21a2c0"
      },
      "execution_count": 73,
      "outputs": [
        {
          "output_type": "stream",
          "name": "stdout",
          "text": [
            "Enter the start number: 7\n",
            "Enter the end number: 5\n",
            "\n",
            " There is something wrong! \n",
            "Starting number should be less then Ending number: \n"
          ]
        }
      ]
    },
    {
      "cell_type": "code",
      "source": [
        "#generate even number 1 to 20 using while loop\n",
        "\n",
        "num1 = 2\n",
        "print(\"Even number is:  \",)\n",
        "while num1 <= 20:\n",
        "  print(f\"{num1}\")\n",
        "  num1 += 2\n",
        "\n",
        "print(\"Odd number is: \")\n",
        "\n",
        "num2 = 1\n",
        "while num2 <= 20:\n",
        "  print(f\"{num2}\")\n",
        "  num2 += 2"
      ],
      "metadata": {
        "colab": {
          "base_uri": "https://localhost:8080/"
        },
        "id": "v81wDbQLauL0",
        "outputId": "d68b35d4-1ade-4f21-ef2d-0da6b2d6f1ce"
      },
      "execution_count": 80,
      "outputs": [
        {
          "output_type": "stream",
          "name": "stdout",
          "text": [
            "Even number is:  \n",
            "2\n",
            "4\n",
            "6\n",
            "8\n",
            "10\n",
            "12\n",
            "14\n",
            "16\n",
            "18\n",
            "20\n",
            "Odd number is: \n",
            "1\n",
            "3\n",
            "5\n",
            "7\n",
            "9\n",
            "11\n",
            "13\n",
            "15\n",
            "17\n",
            "19\n"
          ]
        }
      ]
    }
  ]
}